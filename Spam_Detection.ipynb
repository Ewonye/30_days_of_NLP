{
  "nbformat": 4,
  "nbformat_minor": 0,
  "metadata": {
    "colab": {
      "provenance": [],
      "authorship_tag": "ABX9TyOZrCQUoh38nS82tggE3cll",
      "include_colab_link": true
    },
    "kernelspec": {
      "name": "python3",
      "display_name": "Python 3"
    },
    "language_info": {
      "name": "python"
    }
  },
  "cells": [
    {
      "cell_type": "markdown",
      "metadata": {
        "id": "view-in-github",
        "colab_type": "text"
      },
      "source": [
        "<a href=\"https://colab.research.google.com/github/Ewonye/30_days_of_NLP/blob/main/Spam_Detection.ipynb\" target=\"_parent\"><img src=\"https://colab.research.google.com/assets/colab-badge.svg\" alt=\"Open In Colab\"/></a>"
      ]
    },
    {
      "cell_type": "code",
      "execution_count": null,
      "metadata": {
        "id": "CrRoL4DfrYbr"
      },
      "outputs": [],
      "source": [
        "import numpy as np\n",
        "import pandas as pd\n",
        "from sklearn.naive_bayes import MultinomialNB"
      ]
    },
    {
      "cell_type": "code",
      "source": [
        "df=pd.read_csv('/content/spambase.data').values\n",
        "np.random.shuffle(df)"
      ],
      "metadata": {
        "id": "owov8kBirv9H"
      },
      "execution_count": null,
      "outputs": []
    },
    {
      "cell_type": "code",
      "source": [
        "X=df[:,:48]"
      ],
      "metadata": {
        "id": "MYTFX1BouOG2"
      },
      "execution_count": null,
      "outputs": []
    },
    {
      "cell_type": "code",
      "source": [
        "Y=df[:,-1]"
      ],
      "metadata": {
        "id": "dAS567AZvqol"
      },
      "execution_count": null,
      "outputs": []
    },
    {
      "cell_type": "code",
      "source": [
        "#splitting data\n",
        "X_train=X[:-100,]\n",
        "y_train=Y[:-100,]\n",
        "X_test=X[-100:,]\n",
        "y_test=Y[-100:,]"
      ],
      "metadata": {
        "id": "zS2ItbInvwXy"
      },
      "execution_count": null,
      "outputs": []
    },
    {
      "cell_type": "code",
      "source": [
        "#Modelling the data\n",
        "model = MultinomialNB()\n",
        "model.fit(X_train,y_train)\n",
        "print(\"Classification rate for naive bayes\",model.score(X_test,y_test))"
      ],
      "metadata": {
        "colab": {
          "base_uri": "https://localhost:8080/"
        },
        "id": "oIq1odX1w5l8",
        "outputId": "0b3fd63d-8243-49e0-bc9d-9abb3f6affc9"
      },
      "execution_count": null,
      "outputs": [
        {
          "output_type": "stream",
          "name": "stdout",
          "text": [
            "Classification rate for naive bayes 0.83\n"
          ]
        }
      ]
    },
    {
      "cell_type": "code",
      "source": [
        "#MUsing Adaboost classifier\n",
        "from sklearn.ensemble import AdaBoostClassifier\n",
        "ada = AdaBoostClassifier()\n",
        "ada.fit(X_train,y_train)\n",
        "print(\"Classification rate for naive bayes\",ada.score(X_test,y_test))"
      ],
      "metadata": {
        "colab": {
          "base_uri": "https://localhost:8080/"
        },
        "id": "tuo94aupxX2J",
        "outputId": "eda9e557-fc63-4836-8876-d47b50f54c83"
      },
      "execution_count": null,
      "outputs": [
        {
          "output_type": "stream",
          "name": "stdout",
          "text": [
            "Classification rate for naive bayes 0.84\n"
          ]
        }
      ]
    },
    {
      "cell_type": "code",
      "source": [
        "from sklearn.ensemble import RandomForestClassifier\n",
        "rf = RandomForestClassifier()\n",
        "rf.fit(X_train,y_train)\n",
        "print(\"Classification rate for naive bayes\",rf.score(X_test,y_test))"
      ],
      "metadata": {
        "colab": {
          "base_uri": "https://localhost:8080/"
        },
        "id": "Yz3cIQkMx3FV",
        "outputId": "9fc849c2-a906-4ef8-9be2-80573f0e2cdc"
      },
      "execution_count": null,
      "outputs": [
        {
          "output_type": "stream",
          "name": "stdout",
          "text": [
            "Classification rate for naive bayes 0.91\n"
          ]
        }
      ]
    },
    {
      "cell_type": "markdown",
      "source": [
        "Comparing the three models used, thus Naive bayes MultinomialNb,AdaBoostClassifier and RandomForestClassier, Randomforest classifier performed well as compared to the other models"
      ],
      "metadata": {
        "id": "zb_XGRdgyc-D"
      }
    },
    {
      "cell_type": "code",
      "source": [],
      "metadata": {
        "id": "23BrHajAyIsg"
      },
      "execution_count": null,
      "outputs": []
    }
  ]
}